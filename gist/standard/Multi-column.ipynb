{
 "cells": [
  {
   "cell_type": "markdown",
   "id": "a15c798a-4ac9-4690-b3d4-2c211b354085",
   "metadata": {},
   "source": [
    "# Multi column test\n",
    "\n",
    "## Environment\n",
    "- Python 3.12/3.13\n",
    "    - locale and pandas have updated\n",
    "- Pands 2.1.4/2.1.2\n",
    " \n",
    "## Test case\n",
    "- Add custom index to test df result_type='expand' "
   ]
  },
  {
   "cell_type": "code",
   "execution_count": 2,
   "id": "4acd7521-0b80-4ed0-a6b8-1724f4e3b51f",
   "metadata": {},
   "outputs": [
    {
     "name": "stdout",
     "output_type": "stream",
     "text": [
      "Pandas 2.1.4\n",
      "Python 3.12.10\n"
     ]
    }
   ],
   "source": [
    "# Common module and data initial\n",
    "import pandas as pd\n",
    "import locale\n",
    "import timeit\n",
    "import matplotlib.pyplot as plt\n",
    "import numpy as np # For calculating mean and standard deviation\n",
    "\n",
    "locale.setlocale(locale.LC_ALL, \"\")\n",
    "\n",
    "def create_new_df_test():\n",
    "    df_test = pd.DataFrame([\n",
    "      {'dir': '/Users/uname1', 'size': 994933},\n",
    "      {'dir': '/Users/uname2', 'size': 109338711},\n",
    "    ], index=['A', 'B']) # Custom index\n",
    "    return df_test\n",
    "    \n",
    "# List current version used\n",
    "print('Pandas', pd.__version__)\n",
    "!python --version"
   ]
  },
  {
   "cell_type": "code",
   "execution_count": 3,
   "id": "82d9e587-982b-4643-8dac-a744c2d84e77",
   "metadata": {},
   "outputs": [],
   "source": [
    "#\n",
    "# sizes apply by columns, \n",
    "# \n",
    "\n",
    "def sizes_apply_by_cols(s):\n",
    "    s['size_kb'] = s['size'].astype(int).apply(lambda x: locale.format_string(\"%.1f\", x / 1024.0, grouping=True) + ' KB')\n",
    "    s['size_mb'] = s['size'].astype(int).apply(lambda x: locale.format_string(\"%.1f\", x / 1024.0 ** 2, grouping=True) + ' MB')\n",
    "    s['size_gb'] = s['size'].astype(int).apply(lambda x: locale.format_string(\"%.1f\", x / 1024.0 ** 3, grouping=True) + ' GB')\n",
    "    return  s\n",
    "\n",
    "def test_sizes_apply_by_cols():\n",
    "    df = create_new_df_test()\n",
    "    df = sizes_apply_by_cols(df)\n",
    "    return(df)\n",
    "\n",
    "# print(df := test_sizes_apply_by_cols())"
   ]
  },
  {
   "cell_type": "code",
   "execution_count": 4,
   "id": "80d425f5-240f-483c-8cf6-bc5f256a79b9",
   "metadata": {},
   "outputs": [],
   "source": [
    "#\n",
    "# sizes apply by series, \n",
    "# \n",
    "\n",
    "def sizes_apply_by_series(s):\n",
    "    s['size_kb'] = locale.format_string(\"%.1f\", s['size'] / 1024.0, grouping=True) + ' KB'\n",
    "    s['size_mb'] = locale.format_string(\"%.1f\", s['size'] / 1024.0 ** 2, grouping=True) + ' MB'\n",
    "    s['size_gb'] = locale.format_string(\"%.1f\", s['size'] / 1024.0 ** 3, grouping=True) + ' GB'\n",
    "    return s\n",
    "\n",
    "def test_sizes_apply_by_series():\n",
    "    df = create_new_df_test()\n",
    "    df = df.apply(sizes_apply_by_series, axis=1)\n",
    "    return(df)\n",
    "\n",
    "# print(df := test_sizes_apply_by_series())"
   ]
  },
  {
   "cell_type": "code",
   "execution_count": 5,
   "id": "9cd42702-c7a0-401d-87e4-10746fcf29c0",
   "metadata": {},
   "outputs": [],
   "source": [
    "#\n",
    "# sizes apply by tuple, \n",
    "# \n",
    "\n",
    "def sizes_by_tuple(s):\n",
    "    return locale.format_string(\"%.1f\", s / 1024.0, grouping=True) + ' KB', \\\n",
    "        locale.format_string(\"%.1f\", s / 1024.0 ** 2, grouping=True) + ' MB', \\\n",
    "        locale.format_string(\"%.1f\", s / 1024.0 ** 3, grouping=True) + ' GB'\n",
    "\n",
    "def test_sizes_by_tuple():\n",
    "    df = create_new_df_test()\n",
    "    df['size_kb'],  df['size_mb'], df['size_gb'] = \\\n",
    "        zip(*df['size'].apply(sizes_by_tuple))\n",
    "    return(df)\n",
    "\n",
    "# print(df := test_sizes_by_tuple())"
   ]
  },
  {
   "cell_type": "markdown",
   "id": "6d81367b-2b45-4c40-86c9-74c9aa42d9f3",
   "metadata": {},
   "source": [
    "# timeit \n",
    "- peformance test"
   ]
  },
  {
   "cell_type": "code",
   "execution_count": 7,
   "id": "93a32968-7667-4f98-983b-97604339d669",
   "metadata": {},
   "outputs": [
    {
     "name": "stdout",
     "output_type": "stream",
     "text": [
      "test_sizes_apply_by_cols\n",
      "22.9 ns ± 1.14 ns per loop (mean ± std. dev. of 7 runs, 10,000,000 loops each)\n",
      "test_sizes_apply_by_series\n",
      "24.6 ns ± 1.82 ns per loop (mean ± std. dev. of 7 runs, 10,000,000 loops each)\n",
      "test_sizes_by_tuple\n",
      "24.5 ns ± 2.61 ns per loop (mean ± std. dev. of 7 runs, 10,000,000 loops each)\n"
     ]
    }
   ],
   "source": [
    "# timeit simple test \n",
    "\n",
    "f = test_sizes_apply_by_cols\n",
    "print(f.__name__)\n",
    "%timeit f\n",
    "\n",
    "f = test_sizes_apply_by_series\n",
    "print(f.__name__)\n",
    "%timeit f\n",
    "\n",
    "f = test_sizes_by_tuple\n",
    "print(f.__name__)\n",
    "%timeit f"
   ]
  },
  {
   "cell_type": "code",
   "execution_count": 13,
   "id": "0c36c4fe-e159-400a-ab9d-81bb60d2a889",
   "metadata": {},
   "outputs": [
    {
     "name": "stdout",
     "output_type": "stream",
     "text": [
      "                         Method  Average Time (s)  Std Dev (s)\n",
      "0    test_sizes_apply_by_cols()          1.389462     0.055889\n",
      "1  test_sizes_apply_by_series()          3.230385     0.104173\n",
      "2         test_sizes_by_tuple()          1.043548     0.049626\n"
     ]
    }
   ],
   "source": [
    "#\n",
    "# add_timeit() to generate df_performance\n",
    "#\n",
    "\n",
    "plt.rcParams['figure.figsize'] = (10, 6) # Set default figure size\n",
    "# --- Configuration for timeit runs ---\n",
    "\n",
    "common_setup = \"\"\"\n",
    "import pandas as pd\n",
    "import numpy as np\n",
    "from __main__ import create_new_df_test\n",
    "from __main__ import test_sizes_apply_by_cols, sizes_apply_by_cols\n",
    "from __main__ import test_sizes_apply_by_series, sizes_apply_by_series\n",
    "from __main__ import test_sizes_by_tuple, sizes_by_tuple\n",
    "\"\"\"\n",
    "\n",
    "number_of_executions = 1000  # Number of times to execute stmt for each run\n",
    "repeat_measurements = 7    # Number of times to repeat the whole execution (to get std dev)\n",
    "\n",
    "def add_timeit(f):\n",
    "# --- Collect results ---  \n",
    "    s = f.__name__ +'()'\n",
    "    # print(s)\n",
    "    times_sum = timeit.repeat(\n",
    "        stmt=f,\n",
    "        setup=common_setup,\n",
    "        number=number_of_executions,\n",
    "        repeat=repeat_measurements\n",
    "    )\n",
    "    results= {\n",
    "        'Method': s,\n",
    "        'Average Time (s)': np.mean(times_sum),\n",
    "        'Std Dev (s)': np.std(times_sum)\n",
    "    }\n",
    "    \n",
    "    # print(\"Performance Results:\")\n",
    "    # print(results)\n",
    "    return results\n",
    "\n",
    "results = []\n",
    "results.append(add_timeit(test_sizes_apply_by_cols))\n",
    "results.append(add_timeit(test_sizes_apply_by_series))\n",
    "results.append(add_timeit(test_sizes_by_tuple))\n",
    "df_performance = pd.DataFrame(results)\n",
    "print(df_performance)"
   ]
  },
  {
   "cell_type": "code",
   "execution_count": 15,
   "id": "aeea927a-49ea-4b3f-bfec-3888b29c6c1f",
   "metadata": {},
   "outputs": [
    {
     "name": "stdout",
     "output_type": "stream",
     "text": [
      "\n",
      "--- Plotting Directly with Matplotlib ---\n"
     ]
    },
    {
     "data": {
      "image/png": "[encoded data removed]",
      "text/plain": [
       "<Figure size 1000x600 with 1 Axes>"
      ]
     },
     "metadata": {},
     "output_type": "display_data"
    }
   ],
   "source": [
    "#\n",
    "# Plot result from df_performance\n",
    "#\n",
    "\n",
    "import pandas as pd\n",
    "import matplotlib.pyplot as plt\n",
    "import numpy as np # Typically imported with matplotlib for numerical operations\n",
    "\n",
    "print(\"\\n--- Plotting Directly with Matplotlib ---\")\n",
    "\n",
    "plt.figure(figsize=(10, 6))\n",
    "\n",
    "# Extract data directly from the DataFrame\n",
    "methods = df_performance['Method']\n",
    "avg_times = df_performance['Average Time (s)']\n",
    "std_devs = df_performance['Std Dev (s)']\n",
    "\n",
    "# Create the bar plot using matplotlib.pyplot.bar()\n",
    "plt.bar(\n",
    "    x=methods,             # Categories for the x-axis\n",
    "    height=avg_times,      # Heights of the bars (y-values)\n",
    "    yerr=std_devs,         # Error bar values\n",
    "    capsize=5,             # Add caps to the error bars for better visibility\n",
    "    color='teal',          # Set a bar color\n",
    "    alpha=0.8              # Adjust transparency\n",
    ")\n",
    "\n",
    "# Add labels and title\n",
    "plt.title('Performance Comparison (Direct Matplotlib Plot with Error Bars)')\n",
    "plt.xlabel('Method')\n",
    "plt.ylabel('Average Time (s)')\n",
    "plt.xticks(rotation=15) # Rotate x-axis labels if needed for readability\n",
    "plt.grid(axis='y', linestyle='--', alpha=0.7) # Add a grid for readability\n",
    "\n",
    "plt.tight_layout() # Adjust layout to prevent labels from being cut off\n",
    "plt.show()"
   ]
  },
  {
   "cell_type": "code",
   "execution_count": null,
   "id": "729a04be-8f75-4c82-ba2c-b8ce6b8abf01",
   "metadata": {},
   "outputs": [],
   "source": []
  },
  {
   "cell_type": "code",
   "execution_count": null,
   "id": "a303965e-bac7-4139-9c8e-da5a3c571eab",
   "metadata": {},
   "outputs": [],
   "source": []
  }
 ],
 "metadata": {
  "kernelspec": {
   "display_name": "Python [conda env:.conda-py312]",
   "language": "python",
   "name": "conda-env-.conda-py312-py"
  },
  "language_info": {
   "codemirror_mode": {
    "name": "ipython",
    "version": 3
   },
   "file_extension": ".py",
   "mimetype": "text/x-python",
   "name": "python",
   "nbconvert_exporter": "python",
   "pygments_lexer": "ipython3",
   "version": "3.12.10"
  }
 },
 "nbformat": 4,
 "nbformat_minor": 5
}
